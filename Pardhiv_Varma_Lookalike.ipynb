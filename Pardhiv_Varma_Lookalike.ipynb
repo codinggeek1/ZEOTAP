{
  "nbformat": 4,
  "nbformat_minor": 0,
  "metadata": {
    "colab": {
      "provenance": []
    },
    "kernelspec": {
      "name": "python3",
      "display_name": "Python 3"
    },
    "language_info": {
      "name": "python"
    }
  },
  "cells": [
    {
      "cell_type": "code",
      "source": [
        "import pandas as pd\n",
        "from sklearn.metrics.pairwise import cosine_similarity\n",
        "from sklearn.preprocessing import StandardScaler\n",
        "\n",
        "# Load data\n",
        "customers = pd.read_csv(\"Customers.csv\")\n",
        "transactions = pd.read_csv(\"Transactions.csv\")\n",
        "products = pd.read_csv(\"Products.csv\")\n",
        "\n",
        "# Merge datasets for comprehensive analysis\n",
        "merged_data = transactions.merge(customers, on=\"CustomerID\", how=\"left\")\n",
        "merged_data = merged_data.merge(products, on=\"ProductID\", how=\"left\")\n",
        "\n",
        "# Feature Engineering: Aggregate transaction data for customers\n",
        "customer_features = merged_data.groupby(\"CustomerID\").agg({\n",
        "    'TotalValue': 'sum',  # Total value of all transactions by the customer\n",
        "    'Quantity': 'sum',    # Total quantity of products purchased\n",
        "    'TransactionID': 'count'  # Number of transactions\n",
        "}).rename(columns={\n",
        "    'TotalValue': 'TotalSpent',\n",
        "    'Quantity': 'TotalQuantity',\n",
        "    'TransactionID': 'TransactionCount'\n",
        "})\n",
        "\n",
        "# Add customer profile data\n",
        "customer_features = customer_features.join(customers.set_index('CustomerID'), on='CustomerID')\n",
        "\n",
        "# Convert categorical region into numerical encoding\n",
        "customer_features = pd.get_dummies(customer_features, columns=['Region'], drop_first=True)\n",
        "\n",
        "# Normalize data for similarity computation\n",
        "scaler = StandardScaler()\n",
        "features_scaled = scaler.fit_transform(customer_features.drop(['CustomerName', 'SignupDate'], axis=1))\n",
        "\n",
        "# Compute similarity matrix\n",
        "similarity_matrix = cosine_similarity(features_scaled)\n",
        "\n",
        "# Create a DataFrame for similarity matrix\n",
        "similarity_df = pd.DataFrame(similarity_matrix, index=customer_features.index, columns=customer_features.index)\n",
        "\n",
        "# Function to get top 3 similar customers\n",
        "def get_top_similar(customer_id, top_n=3):\n",
        "    if customer_id not in similarity_df.index:\n",
        "        return []\n",
        "    similar_scores = similarity_df.loc[customer_id].sort_values(ascending=False)\n",
        "    similar_scores = similar_scores.iloc[1:top_n+1]  # Exclude self-similarity\n",
        "    return [(index, score) for index, score in similar_scores.items()]\n",
        "\n",
        "# Generate lookalike data for first 20 customers\n",
        "lookalike_results = {}\n",
        "for customer_id in customer_features.index[:20]:\n",
        "    lookalike_results[customer_id] = get_top_similar(customer_id)\n",
        "\n",
        "# Save lookalike results to CSV\n",
        "lookalike_output = []\n",
        "for cust_id, lookalikes in lookalike_results.items():\n",
        "    for similar_id, score in lookalikes:\n",
        "        lookalike_output.append({'CustomerID': cust_id, 'SimilarCustomerID': similar_id, 'SimilarityScore': score})\n",
        "\n",
        "lookalike_df = pd.DataFrame(lookalike_output)\n",
        "lookalike_df.to_csv(\"Pardhiv_Varma_Lookalike.csv\", index=False)\n",
        "\n",
        "print(\"Lookalike model completed. Results saved to Pardhiv_Varma_Lookalike.csv.\")"
      ],
      "metadata": {
        "colab": {
          "base_uri": "https://localhost:8080/"
        },
        "id": "qKAlT8s_iH6B",
        "outputId": "1ffc0597-25a2-47cd-ee39-dc76a3de16a7"
      },
      "execution_count": 8,
      "outputs": [
        {
          "output_type": "stream",
          "name": "stdout",
          "text": [
            "Lookalike model completed. Results saved to Pardhiv_Varma_Lookalike.csv.\n"
          ]
        }
      ]
    },
    {
      "cell_type": "code",
      "source": [],
      "metadata": {
        "id": "hN1gze3giz_U"
      },
      "execution_count": null,
      "outputs": []
    }
  ]
}